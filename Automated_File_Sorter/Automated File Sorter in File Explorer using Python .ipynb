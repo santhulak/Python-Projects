{
 "cells": [
  {
   "cell_type": "code",
   "execution_count": 14,
   "id": "0507d643",
   "metadata": {},
   "outputs": [],
   "source": [
    "import os, shutil\n"
   ]
  },
  {
   "cell_type": "code",
   "execution_count": 15,
   "id": "55931aae",
   "metadata": {},
   "outputs": [],
   "source": [
    "path = r\"D:/Python/projects/file_sorter/\""
   ]
  },
  {
   "cell_type": "code",
   "execution_count": 16,
   "id": "5ca14fb2",
   "metadata": {},
   "outputs": [],
   "source": [
    "files = os.listdir(path)"
   ]
  },
  {
   "cell_type": "code",
   "execution_count": 17,
   "id": "6608d22a",
   "metadata": {},
   "outputs": [
    {
     "name": "stdout",
     "output_type": "stream",
     "text": [
      "D:/Python/projects/file_sorter/excel\n",
      "D:/Python/projects/file_sorter/images\n",
      "D:/Python/projects/file_sorter/text\n"
     ]
    }
   ],
   "source": [
    "folder_names =['excel','images','text']\n",
    "for i in range(0,3):\n",
    "    if not os.path.exists(path+ folder_names[i]):\n",
    "        print(path + folder_names[i])\n",
    "        os.makedirs(path + folder_names[i])\n",
    "    \n"
   ]
  },
  {
   "cell_type": "code",
   "execution_count": 18,
   "id": "ebe48b5c",
   "metadata": {},
   "outputs": [],
   "source": [
    "for f in files:\n",
    "    if \".xlsx\" in f and not os.path.exists(path + \"excel/\" + f):\n",
    "        shutil.move(path + f, path + \"excel/\" + f)\n",
    "    elif \".txt\" in f and not os.path.exists(path + \"text/\" + f):\n",
    "        shutil.move(path + f, path + \"text/\" + f)\n",
    "    elif \".png\" or \".jpeg\" in f and not os.path.exists(path + \"images/\" + f):\n",
    "        shutil.move(path + f, path + \"images/\" + f)\n",
    "    "
   ]
  },
  {
   "cell_type": "code",
   "execution_count": null,
   "id": "aa27e520",
   "metadata": {},
   "outputs": [],
   "source": []
  }
 ],
 "metadata": {
  "kernelspec": {
   "display_name": "Python 3 (ipykernel)",
   "language": "python",
   "name": "python3"
  },
  "language_info": {
   "codemirror_mode": {
    "name": "ipython",
    "version": 3
   },
   "file_extension": ".py",
   "mimetype": "text/x-python",
   "name": "python",
   "nbconvert_exporter": "python",
   "pygments_lexer": "ipython3",
   "version": "3.9.13"
  }
 },
 "nbformat": 4,
 "nbformat_minor": 5
}
